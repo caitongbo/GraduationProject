{
 "cells": [
  {
   "cell_type": "code",
   "execution_count": 1,
   "metadata": {},
   "outputs": [
    {
     "name": "stdout",
     "output_type": "stream",
     "text": [
      "188345\n",
      "error\n",
      "error\n"
     ]
    }
   ],
   "source": [
    "import pyecharts\n",
    "from pyecharts import Bar\n",
    "from pyecharts import online\n",
    "# online()\n",
    "import json\n",
    "import codecs\n",
    "#path = 'D:\\\\11\\\\11.json'\n",
    "path = '.\\\\11result.json'\n",
    "with open(path, 'r', encoding='utf-8') as f:\n",
    "    temp = json.load(f)\n",
    "    list = []\n",
    "    list = temp\n",
    "temp = []\n",
    "for i in list:\n",
    "    temp.append(i)\n",
    "\n",
    "print(len(temp))\n",
    "for i in temp:\n",
    "    try:\n",
    "        i['nums'] = int(i['nums'])\n",
    "    except:\n",
    "        print('error')\n",
    "#temp.sort(key = lambda x:x[\"nums\"])\n",
    "#temp.reverse()\n",
    "\n",
    "dic_n_new = {} #新词\n",
    "dic_nr = {} # 人名\n",
    "dic_ns = {} # 地名\n",
    "dic_nt = {} # 机构团体名\n",
    "dic_nz = {} # 其它专名\n",
    "\n",
    "res_n_new = [] #新词\n",
    "res_nr = [] # 人名\n",
    "res_ns = [] # 地名\n",
    "res_nt = [] # 机构团体名\n",
    "res_nz = [] # 其它专名\n",
    "for i in temp:\n",
    "    try:\n",
    "        if i['cates'] == 'n_new': \n",
    "            if i['words'] in dic_n_new:\n",
    "                dic_n_new[i['words']] = dic_n_new[i['words']] + i['nums']\n",
    "            else:\n",
    "                dic_n_new[i['words']] = i['nums']\n",
    "        if i['cates'] == 'nr':\n",
    "            if i['words'] in dic_nr:\n",
    "                dic_nr[i['words']] = dic_nr[i['words']] + i['nums']\n",
    "            else:\n",
    "                dic_nr[i['words']] = i['nums']\n",
    "        if i['cates'] == 'ns':\n",
    "            if i['words'] in dic_ns:\n",
    "                dic_ns[i['words']] = dic_ns[i['words']] + i['nums']\n",
    "            else:\n",
    "                dic_ns[i['words']] = i['nums']\n",
    "        if i['cates'] == 'nt':\n",
    "            if i['words'] in dic_nt:\n",
    "                dic_nt[i['words']] = dic_nt[i['words']] + i['nums']\n",
    "            else:\n",
    "                dic_nt[i['words']] = i['nums']\n",
    "        if i['cates'] == 'nz':\n",
    "            if i['words'] in dic_nz:\n",
    "                dic_nz[i['words']] = dic_nz[i['words']] + i['nums']\n",
    "            else:\n",
    "                dic_nz[i['words']] = i['nums']       \n",
    "    except:\n",
    "        #print(\"eroor\")\n",
    "        pass\n",
    "\n",
    "#处理各个词性的数据，最后逆序排列\n",
    "def deal(res, dic):\n",
    "    res.clear()\n",
    "    c = {}\n",
    "    for key in dic:\n",
    "        c['words'] = key\n",
    "        c['nums'] = dic[key]\n",
    "        res.append(c)\n",
    "        c = {}\n",
    "    res.sort(key = lambda x:x['nums'])\n",
    "    res.reverse() \n",
    "\n",
    "# 输出list数据\n",
    "def output(res, num = 40):\n",
    "    for i in res[:num]:\n",
    "        print(i)"
   ]
  },
  {
   "cell_type": "code",
   "execution_count": 29,
   "metadata": {
    "scrolled": false
   },
   "outputs": [
    {
     "name": "stdout",
     "output_type": "stream",
     "text": [
      "{'words': '微信', 'nums': 832}\n",
      "{'words': '告诉记者', 'nums': 815}\n",
      "{'words': '犯罪嫌疑人', 'nums': 810}\n",
      "{'words': '公安机关', 'nums': 493}\n",
      "{'words': '双11', 'nums': 361}\n",
      "{'words': '共享单车', 'nums': 348}\n",
      "{'words': '安全隐患', 'nums': 310}\n",
      "{'words': '野生动物', 'nums': 282}\n",
      "{'words': '微博', 'nums': 268}\n",
      "{'words': '主播', 'nums': 227}\n",
      "{'words': '客服', 'nums': 226}\n",
      "{'words': '工作人员', 'nums': 205}\n",
      "{'words': '淘宝', 'nums': 189}\n",
      "{'words': '公民个人信息', 'nums': 172}\n",
      "{'words': '网购', 'nums': 167}\n",
      "{'words': '精准', 'nums': 153}\n",
      "{'words': '携程亲子园', 'nums': 153}\n",
      "{'words': '导盲犬', 'nums': 150}\n",
      "{'words': '巡察', 'nums': 147}\n",
      "{'words': '搜救', 'nums': 146}\n",
      "{'words': '王先生', 'nums': 146}\n",
      "{'words': '判处有期徒刑', 'nums': 143}\n",
      "{'words': '检察机关', 'nums': 142}\n",
      "{'words': '中国青年报', 'nums': 137}\n",
      "{'words': '刑事拘留', 'nums': 129}\n",
      "{'words': '个人信息', 'nums': 124}\n",
      "{'words': '专项行动', 'nums': 124}\n",
      "{'words': '筛查', 'nums': 119}\n",
      "{'words': '办案民警', 'nums': 114}\n",
      "{'words': '碰瓷', 'nums': 114}\n"
     ]
    }
   ],
   "source": [
    "deal(res_n_new, dic_n_new) #进行数据储存\n",
    "output(res_n_new, 30) #数据输出\n",
    "attr_n_new = []\n",
    "value_n_new = []\n",
    "for n_new in res_n_new[4:30]:\n",
    "    attr_n_new.append(n_new['words'])\n",
    "    value_n_new.append(n_new['nums'])\n",
    "bar = Bar(\"2017年11月份名词记\", \"2017年11月出现频率最高的名词\")\n",
    "bar.add(\"主视图\", attr_n_new, value_n_new, xaxis_interval=0, xaxis_rotate=30, yaxis_rotate=30)\n",
    "# bar"
   ]
  },
  {
   "cell_type": "markdown",
   "metadata": {},
   "source": [
    "![alt text](http://img.blog.csdn.net/20180223211134624?watermark/2/text/aHR0cDovL2Jsb2cuY3Nkbi5uZXQvc3R5OTQ1/font/5a6L5L2T/fontsize/400/fill/I0JBQkFCMA==/dissolve/70 \"Logo Title Text 1\")"
   ]
  },
  {
   "cell_type": "code",
   "execution_count": 30,
   "metadata": {},
   "outputs": [
    {
     "name": "stdout",
     "output_type": "stream",
     "text": [
      "{'words': '王某', 'nums': 396}\n",
      "{'words': '李某', 'nums': 350}\n",
      "{'words': '张某', 'nums': 321}\n",
      "{'words': '陈某', 'nums': 250}\n",
      "{'words': '刘鑫', 'nums': 206}\n",
      "{'words': '刘某', 'nums': 194}\n",
      "{'words': '江歌', 'nums': 189}\n",
      "{'words': '朱晓东', 'nums': 137}\n",
      "{'words': '李绪义', 'nums': 128}\n",
      "{'words': '杨欢', 'nums': 102}\n",
      "{'words': '赵勇', 'nums': 100}\n",
      "{'words': '赵某', 'nums': 91}\n",
      "{'words': '陈世峰', 'nums': 90}\n",
      "{'words': '黄淑芬', 'nums': 85}\n",
      "{'words': '徐利', 'nums': 81}\n",
      "{'words': '曹伊珂', 'nums': 70}\n",
      "{'words': '林某', 'nums': 69}\n",
      "{'words': '林智双', 'nums': 68}\n",
      "{'words': '朱某', 'nums': 67}\n",
      "{'words': '何某', 'nums': 66}\n",
      "{'words': '彭宇华', 'nums': 64}\n",
      "{'words': '张林苍', 'nums': 62}\n",
      "{'words': '老赖', 'nums': 61}\n",
      "{'words': '徐孟南', 'nums': 60}\n",
      "{'words': '杨晓飞', 'nums': 59}\n",
      "{'words': '段勇', 'nums': 58}\n",
      "{'words': '孙某', 'nums': 55}\n",
      "{'words': '吴某', 'nums': 55}\n",
      "{'words': '胡某', 'nums': 54}\n",
      "{'words': '郝如翔', 'nums': 51}\n",
      "{'words': '孟凡芹', 'nums': 51}\n",
      "{'words': '李伟', 'nums': 49}\n",
      "{'words': '韦某', 'nums': 49}\n",
      "{'words': '陈燕', 'nums': 48}\n",
      "{'words': '黄云彪', 'nums': 48}\n",
      "{'words': '阿伟', 'nums': 48}\n",
      "{'words': '张志菊', 'nums': 47}\n",
      "{'words': '杨莉', 'nums': 47}\n",
      "{'words': '黄某', 'nums': 47}\n",
      "{'words': '周义强', 'nums': 45}\n"
     ]
    }
   ],
   "source": [
    "from pyecharts import WordCloud\n",
    "\n",
    "deal(res_nr, dic_nr)\n",
    "output(res_nr)\n",
    "\n",
    "attr_nr = []\n",
    "value_nr = []\n",
    "for nr in res_nr:\n",
    "    attr_nr.append(nr['words'])\n",
    "    value_nr.append(nr['nums'])\n",
    "\n",
    "wordcloud = WordCloud(\"2017年11月份人名记\", \"2017年11月出现频率最高的人名\",width=900, height=620, title_pos=\"center\")\n",
    "wordcloud.add(\"人名\", attr_nr[:40], value_nr[:40], word_size_range=[20, 120], shape='star')\n",
    "# wordcloud"
   ]
  },
  {
   "cell_type": "markdown",
   "metadata": {},
   "source": [
    "![词云](https://img-blog.csdn.net/20180401213031803?watermark/2/text/aHR0cHM6Ly9ibG9nLmNzZG4ubmV0L3N0eTk0NQ==/font/5a6L5L2T/fontsize/400/fill/I0JBQkFCMA==/dissolve/70 \"2017年11月出现频率最高的人名\")"
   ]
  },
  {
   "cell_type": "code",
   "execution_count": 31,
   "metadata": {
    "scrolled": false
   },
   "outputs": [
    {
     "name": "stdout",
     "output_type": "stream",
     "text": [
      "中国 coordinates is not found\n",
      "广东 coordinates is not found\n",
      "浙江 coordinates is not found\n",
      "广西 coordinates is not found\n",
      "新疆 coordinates is not found\n",
      "西藏 coordinates is not found\n",
      "云南 coordinates is not found\n",
      "河北 coordinates is not found\n",
      "长城 coordinates is not found\n",
      "四川 coordinates is not found\n",
      "湖南 coordinates is not found\n",
      "山东 coordinates is not found\n",
      "京东 coordinates is not found\n",
      "贵州 coordinates is not found\n",
      "长江 coordinates is not found\n",
      "海南 coordinates is not found\n",
      "河南 coordinates is not found\n",
      "九寨沟 coordinates is not found\n",
      "安徽 coordinates is not found\n",
      "湖南省 coordinates is not found\n",
      "福建 coordinates is not found\n",
      "永定河 coordinates is not found\n",
      "甘肃 coordinates is not found\n",
      "城隍庙 coordinates is not found\n",
      "海南省 coordinates is not found\n",
      "陆丰 coordinates is not found\n",
      "共青城 coordinates is not found\n",
      "鲁山 coordinates is not found\n",
      "黄海 coordinates is not found\n",
      "缅甸 coordinates is not found\n",
      "河北省 coordinates is not found\n",
      "都安 coordinates is not found\n",
      "山东省 coordinates is not found\n",
      "河南省 coordinates is not found\n",
      "洱海 coordinates is not found\n",
      "广东省 coordinates is not found\n",
      "辽宁 coordinates is not found\n",
      "乌镇 coordinates is not found\n",
      "江苏 coordinates is not found\n",
      "泰顺 coordinates is not found\n",
      "台湾 coordinates is not found\n"
     ]
    }
   ],
   "source": [
    "from pyecharts import Geo\n",
    "deal(res_ns, dic_ns)\n",
    "# output(res_ns)\n",
    "data = []\n",
    "data.clear()\n",
    "for ns in res_ns:\n",
    "    tupl = (ns[\"words\"], ns[\"nums\"])\n",
    "    data.append(tupl)\n",
    "   \n",
    "geo = Geo(\"全国主要城市11月份出现频率\", \"data from chinanews\", title_color=\"#fff\", title_pos=\"center\",\n",
    "width=800, height=600, background_color='#434a59')\n",
    "attr, value = geo.cast(data)\n",
    "\n",
    "geo.add(\"\", attr, value, visual_range=[0, 3000], visual_text_color=\"#fff\",\n",
    "        symbol_size=15, is_visualmap=True)\n",
    "# geo"
   ]
  },
  {
   "cell_type": "markdown",
   "metadata": {},
   "source": [
    "![地图](http://img.blog.csdn.net/20180223211153842?watermark/2/text/aHR0cDovL2Jsb2cuY3Nkbi5uZXQvc3R5OTQ1/font/5a6L5L2T/fontsize/400/fill/I0JBQkFCMA==/dissolve/70 \"全国主要城市11月份出现频率\")"
   ]
  },
  {
   "cell_type": "code",
   "execution_count": 32,
   "metadata": {},
   "outputs": [],
   "source": [
    "from pyecharts import Map\n",
    "\n",
    "attr_ns = []\n",
    "value_ns = []\n",
    "for ns in res_ns:\n",
    "    attr_ns.append(ns['words'])\n",
    "    value_ns.append(ns['nums'])\n",
    "map = Map(\"11月份各省市新闻出现频率\", width=800, height=600)\n",
    "map.add(\"\", attr_ns, value_ns, maptype='china', is_visualmap=True, visual_text_color='#000', is_label_show=True)\n",
    "# map"
   ]
  },
  {
   "cell_type": "markdown",
   "metadata": {},
   "source": [
    "![地图](http://img.blog.csdn.net/20180223211125903?watermark/2/text/aHR0cDovL2Jsb2cuY3Nkbi5uZXQvc3R5OTQ1/font/5a6L5L2T/fontsize/400/fill/I0JBQkFCMA==/dissolve/70 \"11月份各省市新闻出现频率\")"
   ]
  },
  {
   "cell_type": "code",
   "execution_count": 33,
   "metadata": {},
   "outputs": [
    {
     "name": "stdout",
     "output_type": "stream",
     "text": [
      "{'words': '中新网', 'nums': 1142}\n",
      "{'words': '新华社', 'nums': 228}\n",
      "{'words': '公安部', 'nums': 212}\n",
      "{'words': '人民检察院', 'nums': 87}\n",
      "{'words': '国务院', 'nums': 62}\n",
      "{'words': '清华大学', 'nums': 61}\n",
      "{'words': '教育部', 'nums': 52}\n",
      "{'words': '最高人民法院', 'nums': 30}\n",
      "{'words': '中央气象台', 'nums': 28}\n",
      "{'words': '北京大学', 'nums': 25}\n",
      "{'words': '联合国', 'nums': 23}\n",
      "{'words': '气象局', 'nums': 15}\n",
      "{'words': '中央纪委', 'nums': 13}\n",
      "{'words': '新华网', 'nums': 10}\n",
      "{'words': '党中央', 'nums': 9}\n",
      "{'words': '中国共产党', 'nums': 9}\n",
      "{'words': '中央电视台', 'nums': 8}\n",
      "{'words': '新冶钢', 'nums': 7}\n",
      "{'words': '林业局', 'nums': 7}\n",
      "{'words': '中国红十字会', 'nums': 6}\n",
      "{'words': '财政局', 'nums': 6}\n",
      "{'words': '中国证监会', 'nums': 6}\n",
      "{'words': '中国人民银行', 'nums': 6}\n",
      "{'words': '中国移动', 'nums': 5}\n",
      "{'words': '农业部', 'nums': 5}\n",
      "{'words': '司法部', 'nums': 4}\n"
     ]
    }
   ],
   "source": [
    "from pyecharts import Pie\n",
    "deal(res_nt, dic_nt)\n",
    "output(res_nt)\n",
    "attr_nt = []\n",
    "value_nt = []\n",
    "for nt in res_nt:\n",
    "    attr_nt.append(nt['words'])\n",
    "    value_nt.append(nt['nums'])\n",
    "pie = Pie(\"11月份出现的高频机构\", title_pos='right')\n",
    "pie.add(\"\", attr_nt[2:15], value_nt[2:15], radius=[40, 75], label_text_color=None, is_label_show=True,\n",
    "        legend_orient='vertical', legend_pos='left')\n",
    "# pie"
   ]
  },
  {
   "cell_type": "markdown",
   "metadata": {},
   "source": [
    "![pie](http://img.blog.csdn.net/20180223211054472?watermark/2/text/aHR0cDovL2Jsb2cuY3Nkbi5uZXQvc3R5OTQ1/font/5a6L5L2T/fontsize/400/fill/I0JBQkFCMA==/dissolve/70 \"11月份出现的高频机构\")"
   ]
  },
  {
   "cell_type": "code",
   "execution_count": 34,
   "metadata": {},
   "outputs": [
    {
     "name": "stdout",
     "output_type": "stream",
     "text": [
      "{'words': '英语', 'nums': 249}\n",
      "{'words': '中华', 'nums': 139}\n",
      "{'words': '佛教', 'nums': 71}\n",
      "{'words': '汉族', 'nums': 62}\n",
      "{'words': '扬子', 'nums': 61}\n",
      "{'words': '麦当劳', 'nums': 56}\n",
      "{'words': '新民', 'nums': 55}\n",
      "{'words': '道教', 'nums': 54}\n",
      "{'words': '雪豹', 'nums': 53}\n",
      "{'words': '熊猫', 'nums': 51}\n",
      "{'words': '阿里巴巴', 'nums': 50}\n",
      "{'words': '腾讯', 'nums': 50}\n",
      "{'words': '八大', 'nums': 42}\n",
      "{'words': '通用', 'nums': 40}\n",
      "{'words': '新华', 'nums': 38}\n",
      "{'words': '苗族', 'nums': 37}\n",
      "{'words': '英文', 'nums': 35}\n",
      "{'words': '侗族', 'nums': 34}\n",
      "{'words': '彝', 'nums': 34}\n",
      "{'words': '羌族', 'nums': 33}\n",
      "{'words': '中文', 'nums': 33}\n",
      "{'words': '东东', 'nums': 33}\n",
      "{'words': '红嘴', 'nums': 31}\n",
      "{'words': '华文', 'nums': 31}\n",
      "{'words': '藏族', 'nums': 31}\n",
      "{'words': '清华', 'nums': 30}\n",
      "{'words': '吉尼斯', 'nums': 30}\n",
      "{'words': '汉语', 'nums': 28}\n",
      "{'words': '家乐福', 'nums': 27}\n",
      "{'words': '华为', 'nums': 27}\n",
      "{'words': '海尔', 'nums': 26}\n",
      "{'words': '复旦', 'nums': 25}\n",
      "{'words': '波音', 'nums': 24}\n",
      "{'words': '奥迪', 'nums': 24}\n",
      "{'words': '百度', 'nums': 23}\n",
      "{'words': '康师傅', 'nums': 22}\n",
      "{'words': '阳光', 'nums': 21}\n",
      "{'words': '宝马', 'nums': 21}\n",
      "{'words': '南京大屠杀', 'nums': 21}\n",
      "{'words': '奔驰', 'nums': 21}\n"
     ]
    }
   ],
   "source": [
    "from pyecharts import Pie\n",
    "deal(res_nz, dic_nz)\n",
    "output(res_nz)\n",
    "\n",
    "attr_nz = []\n",
    "value_nz = []\n",
    "for nz in res_nz:\n",
    "    attr_nz.append(nz['words'])\n",
    "    value_nz.append(nz['nums'])\n",
    "\n",
    "pie = Pie(\"11月份高频专有名词\", title_pos='center', width=900)\n",
    "pie.add(\"商品\", attr_nz[2:20], value_nz[2:20], is_random=True, radius=[30, 75], rosetype='area',\n",
    "        is_legend_show=False, is_label_show=True)\n",
    "# pie"
   ]
  },
  {
   "cell_type": "markdown",
   "metadata": {},
   "source": [
    "![pie](http://img.blog.csdn.net/20180223211111782?watermark/2/text/aHR0cDovL2Jsb2cuY3Nkbi5uZXQvc3R5OTQ1/font/5a6L5L2T/fontsize/400/fill/I0JBQkFCMA==/dissolve/70 \"11月份高频专有名词\")"
   ]
  },
  {
   "cell_type": "code",
   "execution_count": 35,
   "metadata": {},
   "outputs": [
    {
     "name": "stdout",
     "output_type": "stream",
     "text": [
      "{'words': '英语', 'nums': 249}\n",
      "{'words': '中华', 'nums': 139}\n",
      "{'words': '佛教', 'nums': 71}\n",
      "{'words': '汉族', 'nums': 62}\n",
      "{'words': '扬子', 'nums': 61}\n",
      "{'words': '麦当劳', 'nums': 56}\n",
      "{'words': '新民', 'nums': 55}\n",
      "{'words': '道教', 'nums': 54}\n",
      "{'words': '雪豹', 'nums': 53}\n",
      "{'words': '熊猫', 'nums': 51}\n",
      "{'words': '阿里巴巴', 'nums': 50}\n",
      "{'words': '腾讯', 'nums': 50}\n",
      "{'words': '八大', 'nums': 42}\n",
      "{'words': '通用', 'nums': 40}\n",
      "{'words': '新华', 'nums': 38}\n",
      "{'words': '苗族', 'nums': 37}\n",
      "{'words': '英文', 'nums': 35}\n",
      "{'words': '侗族', 'nums': 34}\n",
      "{'words': '彝', 'nums': 34}\n",
      "{'words': '羌族', 'nums': 33}\n",
      "{'words': '中文', 'nums': 33}\n",
      "{'words': '东东', 'nums': 33}\n",
      "{'words': '红嘴', 'nums': 31}\n",
      "{'words': '华文', 'nums': 31}\n",
      "{'words': '藏族', 'nums': 31}\n",
      "{'words': '清华', 'nums': 30}\n",
      "{'words': '吉尼斯', 'nums': 30}\n",
      "{'words': '汉语', 'nums': 28}\n",
      "{'words': '家乐福', 'nums': 27}\n",
      "{'words': '华为', 'nums': 27}\n",
      "{'words': '海尔', 'nums': 26}\n",
      "{'words': '复旦', 'nums': 25}\n",
      "{'words': '波音', 'nums': 24}\n",
      "{'words': '奥迪', 'nums': 24}\n",
      "{'words': '百度', 'nums': 23}\n",
      "{'words': '康师傅', 'nums': 22}\n",
      "{'words': '阳光', 'nums': 21}\n",
      "{'words': '宝马', 'nums': 21}\n",
      "{'words': '南京大屠杀', 'nums': 21}\n",
      "{'words': '奔驰', 'nums': 21}\n"
     ]
    }
   ],
   "source": [
    "from pyecharts import Funnel\n",
    "deal(res_nz, dic_nz)\n",
    "output(res_nz)\n",
    "\n",
    "attr_nz = []\n",
    "value_nz = []\n",
    "for nz in res_nz:\n",
    "    attr_nz.append(nz['words'])\n",
    "    value_nz.append(nz['nums'])\n",
    "\n",
    "funnel = Funnel(\"一月份高频专有名词\",  width=600, height=400, title_pos='right')\n",
    "funnel.add(\"商品\", attr_nz[2:15], value_nz[2:15], legend_orient='vertical', legend_pos='left',\n",
    "           is_label_show=True, label_pos=\"inside\", label_text_color=\"#fff\")\n",
    "# funnel"
   ]
  },
  {
   "cell_type": "markdown",
   "metadata": {},
   "source": [
    "![bar](https://img-blog.csdn.net/20180401203250518?watermark/2/text/aHR0cHM6Ly9ibG9nLmNzZG4ubmV0L3N0eTk0NQ==/font/5a6L5L2T/fontsize/400/fill/I0JBQkFCMA==/dissolve/70 \"11月份高频专有名词\")"
   ]
  }
 ],
 "metadata": {
  "kernelspec": {
   "display_name": "Python 3",
   "language": "python",
   "name": "python3"
  },
  "language_info": {
   "codemirror_mode": {
    "name": "ipython",
    "version": 3
   },
   "file_extension": ".py",
   "mimetype": "text/x-python",
   "name": "python",
   "nbconvert_exporter": "python",
   "pygments_lexer": "ipython3",
   "version": "3.6.3"
  }
 },
 "nbformat": 4,
 "nbformat_minor": 2
}
